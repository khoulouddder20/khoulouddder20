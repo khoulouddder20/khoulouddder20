{
  "nbformat": 4,
  "nbformat_minor": 0,
  "metadata": {
    "colab": {
      "provenance": [],
      "authorship_tag": "ABX9TyP3eSRSm644jKb7zgflemJ8",
      "include_colab_link": true
    },
    "kernelspec": {
      "name": "python3",
      "display_name": "Python 3"
    },
    "language_info": {
      "name": "python"
    },
    "accelerator": "GPU",
    "gpuClass": "standard"
  },
  "cells": [
    {
      "cell_type": "markdown",
      "metadata": {
        "id": "view-in-github",
        "colab_type": "text"
      },
      "source": [
        "<a href=\"https://colab.research.google.com/github/khoulouddder20/khoulouddder20/blob/main/MNIST.ipynb\" target=\"_parent\"><img src=\"https://colab.research.google.com/assets/colab-badge.svg\" alt=\"Open In Colab\"/></a>"
      ]
    },
    {
      "cell_type": "code",
      "execution_count": null,
      "metadata": {
        "id": "Vtzk0m9FeiJS"
      },
      "outputs": [],
      "source": []
    },
    {
      "cell_type": "code",
      "source": [
        "#drive in Google Colab\n",
        "\n",
        "from google.colab import drive\n",
        "drive.mount('/content/drive')"
      ],
      "metadata": {
        "colab": {
          "base_uri": "https://localhost:8080/"
        },
        "id": "h6e049hheq6Y",
        "outputId": "be5904a2-c806-43eb-d9cf-5196ddf48076"
      },
      "execution_count": 1,
      "outputs": [
        {
          "output_type": "stream",
          "name": "stdout",
          "text": [
            "Mounted at /content/drive\n"
          ]
        }
      ]
    },
    {
      "cell_type": "code",
      "source": [
        "#Installing Tensorflow\n",
        "\n",
        "%tensorflow_version "
      ],
      "metadata": {
        "colab": {
          "base_uri": "https://localhost:8080/"
        },
        "id": "AVoY8jUjfh2o",
        "outputId": "528773e3-810c-45bd-da1b-7eed354c0346"
      },
      "execution_count": 1,
      "outputs": [
        {
          "output_type": "stream",
          "name": "stdout",
          "text": [
            "Colab only includes TensorFlow 2.x; %tensorflow_version has no effect.\n"
          ]
        }
      ]
    },
    {
      "cell_type": "code",
      "source": [
        "#importing libaries:\n",
        "\n",
        "#import tensorflow.keras\n",
        "from  keras.models import Sequential\n",
        "from  keras.models import Model \n",
        "from  keras.layers import Dropout, Dense,Activation ,Flatten\n",
        "from  keras.layers import Conv2D, MaxPool2D\n",
        "from  keras.utils import np_utils\n",
        "from  keras.datasets import mnist\n",
        "\n",
        "import numpy as np\n",
        "np.random.seed(123)\n",
        "\n",
        "from matplotlib import pyplot as plt"
      ],
      "metadata": {
        "id": "O7IXQtXHfpp4"
      },
      "execution_count": 17,
      "outputs": []
    },
    {
      "cell_type": "code",
      "source": [
        "(X_train,y_train),(X_test,y_test)=mnist.load_data(path=\"mnist.npz\")"
      ],
      "metadata": {
        "colab": {
          "base_uri": "https://localhost:8080/"
        },
        "id": "ruDxSdqGjTKF",
        "outputId": "a1762ad1-7dd0-4882-cfd3-a4d1caeb5858"
      },
      "execution_count": 3,
      "outputs": [
        {
          "output_type": "stream",
          "name": "stdout",
          "text": [
            "Downloading data from https://storage.googleapis.com/tensorflow/tf-keras-datasets/mnist.npz\n",
            "11490434/11490434 [==============================] - 2s 0us/step\n"
          ]
        }
      ]
    },
    {
      "cell_type": "code",
      "source": [
        "print(X_train.shape)"
      ],
      "metadata": {
        "colab": {
          "base_uri": "https://localhost:8080/"
        },
        "id": "YU8u1z7Qjdrb",
        "outputId": "c3c925c8-2fcf-44c8-e94f-17159b227a67"
      },
      "execution_count": 4,
      "outputs": [
        {
          "output_type": "stream",
          "name": "stdout",
          "text": [
            "(60000, 28, 28)\n"
          ]
        }
      ]
    },
    {
      "cell_type": "code",
      "source": [
        "from matplotlib import pyplot as plt\n",
        "plt.imshow(X_train[0])"
      ],
      "metadata": {
        "colab": {
          "base_uri": "https://localhost:8080/",
          "height": 282
        },
        "id": "WZCGL0srjsNf",
        "outputId": "47a1285d-64da-47d0-88d2-cf55aad905af"
      },
      "execution_count": 8,
      "outputs": [
        {
          "output_type": "execute_result",
          "data": {
            "text/plain": [
              "<matplotlib.image.AxesImage at 0x7f2261f33160>"
            ]
          },
          "metadata": {},
          "execution_count": 8
        },
        {
          "output_type": "display_data",
          "data": {
            "text/plain": [
              "<Figure size 432x288 with 1 Axes>"
            ],
            "image/png": "[encoded data removed]"
          },
          "metadata": {
            "needs_background": "light"
          }
        }
      ]
    },
    {
      "cell_type": "code",
      "source": [
        "X_train =X_train.reshape(X_train.shape[0],28,28,1)\n",
        "X_test =X_test.reshape(X_test.shape[0],28,28,1)\n",
        "print(X_train.shape)"
      ],
      "metadata": {
        "colab": {
          "base_uri": "https://localhost:8080/"
        },
        "id": "NDIFG4pwwGn2",
        "outputId": "fd3584e7-d88b-4f70-a7ff-1bbad87d1340"
      },
      "execution_count": 9,
      "outputs": [
        {
          "output_type": "stream",
          "name": "stdout",
          "text": [
            "(60000, 28, 28, 1)\n"
          ]
        }
      ]
    },
    {
      "cell_type": "code",
      "source": [
        "X_train= X_train.astype('float32')\n",
        "X_test= X_test.astype('float32')\n",
        "X_train /= 255\n",
        "X_test /= 255\n",
        "print(y_train.shape)"
      ],
      "metadata": {
        "colab": {
          "base_uri": "https://localhost:8080/"
        },
        "id": "VdwqtquxxEHB",
        "outputId": "14f0368e-4606-4c82-ff8e-bc8f79cf5baf"
      },
      "execution_count": 10,
      "outputs": [
        {
          "output_type": "stream",
          "name": "stdout",
          "text": [
            "(60000,)\n"
          ]
        }
      ]
    },
    {
      "cell_type": "code",
      "source": [
        "Y_train= np_utils.to_categorical(y_train,10)\n",
        "Y_test= np_utils.to_categorical(y_test,10)\n",
        "print(Y_train.shape)"
      ],
      "metadata": {
        "colab": {
          "base_uri": "https://localhost:8080/"
        },
        "id": "wiehaP9Nxw3n",
        "outputId": "4a2acd44-8b39-4ae8-e5cf-dc6ac373d9b0"
      },
      "execution_count": 13,
      "outputs": [
        {
          "output_type": "stream",
          "name": "stdout",
          "text": [
            "(60000, 10)\n"
          ]
        }
      ]
    },
    {
      "cell_type": "code",
      "source": [
        "#My Model:\n",
        "\n",
        "Model=Sequential()\n",
        "  \n",
        "Model.add(Conv2D(filters = 6, kernel_size = (5,5), padding='same', strides=(1, 1), activation ='relu', input_shape = (28,28,1)))\n",
        "Model.add(MaxPool2D (pool_size=(2,2) , strides=(2, 2)))\n",
        "Model.add(Dropout(0.25))\n",
        "\n",
        "\n",
        "Model.add(Conv2D(filters = 6, kernel_size = (5,5), padding='same', strides=(1, 1), activation ='relu', input_shape = (28,28,1)))\n",
        "Model.add(MaxPool2D (pool_size=(2,2) , strides=(2, 2)))\n",
        "Model.add(Dropout(0.5))\n",
        "\n",
        "Model.add(Flatten())\n",
        "\n",
        "Model.add(Dense(120, activation = \"relu\"))\n",
        "Model.add(Dense(84, activation = \"relu\"))\n",
        "Model.add(Dense(10, activation = \"softmax\"))"
      ],
      "metadata": {
        "id": "ADLZiwGYzHDj"
      },
      "execution_count": 22,
      "outputs": []
    },
    {
      "cell_type": "code",
      "source": [
        "#Compile the Model:\n",
        "Model.compile(loss='categorical_crossentropy',\n",
        "              optimizer='adam',\n",
        "              metrics=['accuracy'])\n",
        "#Output Model structure\n",
        "Model.summary()"
      ],
      "metadata": {
        "colab": {
          "base_uri": "https://localhost:8080/"
        },
        "id": "BlqOu6UR2QrR",
        "outputId": "e2d30d00-fead-48a9-b711-b0210e32f9e1"
      },
      "execution_count": 24,
      "outputs": [
        {
          "output_type": "stream",
          "name": "stdout",
          "text": [
            "Model: \"sequential_4\"\n",
            "_________________________________________________________________\n",
            " Layer (type)                Output Shape              Param #   \n",
            "=================================================================\n",
            " conv2d_1 (Conv2D)           (None, 28, 28, 6)         156       \n",
            "                                                                 \n",
            " max_pooling2d_1 (MaxPooling  (None, 14, 14, 6)        0         \n",
            " 2D)                                                             \n",
            "                                                                 \n",
            " dropout_1 (Dropout)         (None, 14, 14, 6)         0         \n",
            "                                                                 \n",
            " conv2d_2 (Conv2D)           (None, 14, 14, 6)         906       \n",
            "                                                                 \n",
            " max_pooling2d_2 (MaxPooling  (None, 7, 7, 6)          0         \n",
            " 2D)                                                             \n",
            "                                                                 \n",
            " dropout_2 (Dropout)         (None, 7, 7, 6)           0         \n",
            "                                                                 \n",
            " flatten (Flatten)           (None, 294)               0         \n",
            "                                                                 \n",
            " dense (Dense)               (None, 120)               35400     \n",
            "                                                                 \n",
            " dense_1 (Dense)             (None, 84)                10164     \n",
            "                                                                 \n",
            " dense_2 (Dense)             (None, 10)                850       \n",
            "                                                                 \n",
            "=================================================================\n",
            "Total params: 47,476\n",
            "Trainable params: 47,476\n",
            "Non-trainable params: 0\n",
            "_________________________________________________________________\n"
          ]
        }
      ]
    },
    {
      "cell_type": "code",
      "source": [
        "#Fit the Model:\n",
        "Model.fit(X_train , Y_train,\n",
        "           batch_size=16,\n",
        "           epochs=5,\n",
        "           verbose=1,\n",
        "           validation_data=(X_test , Y_test))"
      ],
      "metadata": {
        "colab": {
          "base_uri": "https://localhost:8080/"
        },
        "id": "iGfyYoUi26z1",
        "outputId": "ef122263-b616-4fa5-84d0-fe0eb2ca0edd"
      },
      "execution_count": 25,
      "outputs": [
        {
          "output_type": "stream",
          "name": "stdout",
          "text": [
            "Epoch 1/5\n",
            "3750/3750 [==============================] - 22s 4ms/step - loss: 0.3668 - accuracy: 0.8813 - val_loss: 0.0947 - val_accuracy: 0.9699\n",
            "Epoch 2/5\n",
            "3750/3750 [==============================] - 14s 4ms/step - loss: 0.1874 - accuracy: 0.9406 - val_loss: 0.0616 - val_accuracy: 0.9825\n",
            "Epoch 3/5\n",
            "3750/3750 [==============================] - 14s 4ms/step - loss: 0.1577 - accuracy: 0.9494 - val_loss: 0.0628 - val_accuracy: 0.9825\n",
            "Epoch 4/5\n",
            "3750/3750 [==============================] - 14s 4ms/step - loss: 0.1397 - accuracy: 0.9558 - val_loss: 0.0540 - val_accuracy: 0.9837\n",
            "Epoch 5/5\n",
            "3750/3750 [==============================] - 14s 4ms/step - loss: 0.1302 - accuracy: 0.9587 - val_loss: 0.0464 - val_accuracy: 0.9860\n"
          ]
        },
        {
          "output_type": "execute_result",
          "data": {
            "text/plain": [
              "<keras.callbacks.History at 0x7f21fc180400>"
            ]
          },
          "metadata": {},
          "execution_count": 25
        }
      ]
    },
    {
      "cell_type": "code",
      "source": [
        "#Evaluate Model :\n",
        "score = Model.evaluate(X_test , Y_test, verbose=1)\n",
        "print('Val loss:', score[0])\n",
        "print('Val accuracy:', score[1])"
      ],
      "metadata": {
        "colab": {
          "base_uri": "https://localhost:8080/"
        },
        "id": "uI-Or0dr3rqq",
        "outputId": "9d8d71b8-935c-4971-87bd-9677068ba194"
      },
      "execution_count": 26,
      "outputs": [
        {
          "output_type": "stream",
          "name": "stdout",
          "text": [
            "313/313 [==============================] - 1s 3ms/step - loss: 0.0464 - accuracy: 0.9860\n",
            "Val loss: 0.04642537608742714\n",
            "Val accuracy: 0.9860000014305115\n"
          ]
        }
      ]
    }
  ]
}